{
 "cells": [
  {
   "cell_type": "code",
   "execution_count": 16,
   "id": "stuffed-pennsylvania",
   "metadata": {},
   "outputs": [],
   "source": [
    "import pandas as pd\n",
    "import numpy as np\n",
    "import datetime\n",
    "\n",
    "\n",
    "from vnpy.trader.object import BarData, TickData, HistoryRequest\n",
    "from vnpy.trader.constant import Exchange, Interval\n",
    "from vnpy.trader.database import database_manager\n"
   ]
  },
  {
   "cell_type": "code",
   "execution_count": 43,
   "id": "proved-spring",
   "metadata": {},
   "outputs": [],
   "source": [
    "file_path = \"../FirstRateData/futures-active_1min_4zl13/ES_continuous_adjusted_1min.txt\"\n",
    "header_list = ['DateTime', 'Open', 'High', 'Low', 'Close', 'Volume']\n",
    "\n",
    "es_df = pd.read_csv(file_path, \n",
    "                    header=None,\n",
    "                    names = header_list)"
   ]
  },
  {
   "cell_type": "code",
   "execution_count": 44,
   "id": "photographic-thanks",
   "metadata": {},
   "outputs": [
    {
     "name": "stdout",
     "output_type": "stream",
     "text": [
      "(5209931, 6)\n",
      "347328\n"
     ]
    }
   ],
   "source": [
    "import math\n",
    "\n",
    "print(es_df.shape)\n",
    "partial = math.floor(es_df.shape[0]/15)\n",
    "print(partial)"
   ]
  },
  {
   "cell_type": "code",
   "execution_count": null,
   "id": "familiar-joyce",
   "metadata": {},
   "outputs": [],
   "source": []
  },
  {
   "cell_type": "code",
   "execution_count": 45,
   "id": "pleasant-bradley",
   "metadata": {},
   "outputs": [
    {
     "data": {
      "text/plain": [
       "(347328, 6)"
      ]
     },
     "execution_count": 45,
     "metadata": {},
     "output_type": "execute_result"
    }
   ],
   "source": [
    "es_df = es_df.iloc[-partial:]\n",
    "es_df.shape"
   ]
  },
  {
   "cell_type": "code",
   "execution_count": 46,
   "id": "round-small",
   "metadata": {},
   "outputs": [
    {
     "data": {
      "text/html": [
       "<div>\n",
       "<style scoped>\n",
       "    .dataframe tbody tr th:only-of-type {\n",
       "        vertical-align: middle;\n",
       "    }\n",
       "\n",
       "    .dataframe tbody tr th {\n",
       "        vertical-align: top;\n",
       "    }\n",
       "\n",
       "    .dataframe thead th {\n",
       "        text-align: right;\n",
       "    }\n",
       "</style>\n",
       "<table border=\"1\" class=\"dataframe\">\n",
       "  <thead>\n",
       "    <tr style=\"text-align: right;\">\n",
       "      <th></th>\n",
       "      <th>DateTime</th>\n",
       "      <th>Open</th>\n",
       "      <th>High</th>\n",
       "      <th>Low</th>\n",
       "      <th>Close</th>\n",
       "      <th>Volume</th>\n",
       "    </tr>\n",
       "  </thead>\n",
       "  <tbody>\n",
       "    <tr>\n",
       "      <th>4862603</th>\n",
       "      <td>2020-01-23 07:40:00</td>\n",
       "      <td>3275.00</td>\n",
       "      <td>3275.25</td>\n",
       "      <td>3274.50</td>\n",
       "      <td>3275.00</td>\n",
       "      <td>313</td>\n",
       "    </tr>\n",
       "    <tr>\n",
       "      <th>4862604</th>\n",
       "      <td>2020-01-23 07:41:00</td>\n",
       "      <td>3275.00</td>\n",
       "      <td>3275.50</td>\n",
       "      <td>3275.00</td>\n",
       "      <td>3275.50</td>\n",
       "      <td>189</td>\n",
       "    </tr>\n",
       "    <tr>\n",
       "      <th>4862605</th>\n",
       "      <td>2020-01-23 07:42:00</td>\n",
       "      <td>3275.50</td>\n",
       "      <td>3275.75</td>\n",
       "      <td>3275.25</td>\n",
       "      <td>3275.25</td>\n",
       "      <td>314</td>\n",
       "    </tr>\n",
       "    <tr>\n",
       "      <th>4862606</th>\n",
       "      <td>2020-01-23 07:43:00</td>\n",
       "      <td>3275.25</td>\n",
       "      <td>3275.50</td>\n",
       "      <td>3275.25</td>\n",
       "      <td>3275.25</td>\n",
       "      <td>332</td>\n",
       "    </tr>\n",
       "    <tr>\n",
       "      <th>4862607</th>\n",
       "      <td>2020-01-23 07:44:00</td>\n",
       "      <td>3275.25</td>\n",
       "      <td>3275.50</td>\n",
       "      <td>3275.00</td>\n",
       "      <td>3275.50</td>\n",
       "      <td>233</td>\n",
       "    </tr>\n",
       "  </tbody>\n",
       "</table>\n",
       "</div>"
      ],
      "text/plain": [
       "                    DateTime     Open     High      Low    Close  Volume\n",
       "4862603  2020-01-23 07:40:00  3275.00  3275.25  3274.50  3275.00     313\n",
       "4862604  2020-01-23 07:41:00  3275.00  3275.50  3275.00  3275.50     189\n",
       "4862605  2020-01-23 07:42:00  3275.50  3275.75  3275.25  3275.25     314\n",
       "4862606  2020-01-23 07:43:00  3275.25  3275.50  3275.25  3275.25     332\n",
       "4862607  2020-01-23 07:44:00  3275.25  3275.50  3275.00  3275.50     233"
      ]
     },
     "execution_count": 46,
     "metadata": {},
     "output_type": "execute_result"
    }
   ],
   "source": [
    "es_df.head()"
   ]
  },
  {
   "cell_type": "code",
   "execution_count": 47,
   "id": "junior-percentage",
   "metadata": {},
   "outputs": [],
   "source": [
    "es_df.to_csv(\"../FirstRateData/futures-active_1min_4zl13/ES_continuous_adjusted_1min_1yrs.txt\", index=False)"
   ]
  },
  {
   "cell_type": "code",
   "execution_count": 4,
   "id": "continent-burning",
   "metadata": {},
   "outputs": [],
   "source": [
    "# use pandas datetime: \n",
    "\n",
    "es_df['DateTime'] =  pd.to_datetime(es_df['DateTime'])"
   ]
  },
  {
   "cell_type": "code",
   "execution_count": null,
   "id": "expensive-protein",
   "metadata": {},
   "outputs": [],
   "source": []
  },
  {
   "cell_type": "code",
   "execution_count": 27,
   "id": "enhanced-capacity",
   "metadata": {},
   "outputs": [],
   "source": [
    "# use native python datetime lib: \n",
    "\n",
    "es_df['DateTime'] = es_df['DateTime'].apply(lambda x: datetime.datetime.strptime(x, '%Y-%m-%d %H:%M:%S'))"
   ]
  },
  {
   "cell_type": "code",
   "execution_count": null,
   "id": "random-mounting",
   "metadata": {},
   "outputs": [],
   "source": [
    "from pytz import timezone\n",
    "\n",
    "DB_TZ = timezone(SETTINGS[\"database.timezone\"])\n",
    "dt = dt.astimezone(DB_TZ)\n"
   ]
  },
  {
   "cell_type": "code",
   "execution_count": 5,
   "id": "overhead-persian",
   "metadata": {},
   "outputs": [
    {
     "name": "stdout",
     "output_type": "stream",
     "text": [
      "2005-09-06 16:00:00 1138.25\n",
      "2005-09-06 17:00:00 1138.25\n",
      "2005-09-06 18:00:00 1138.5\n",
      "2005-09-06 19:00:00 1138.0\n",
      "2005-09-06 20:00:00 1138.25\n",
      "2005-09-06 21:00:00 1138.25\n",
      "2005-09-06 22:00:00 1137.75\n",
      "2005-09-06 23:00:00 1138.0\n",
      "2005-09-07 00:00:00 1137.5\n",
      "2005-09-07 01:00:00 1138.0\n",
      "2005-09-07 02:00:00 1138.0\n",
      "2005-09-07 03:00:00 1138.25\n",
      "2005-09-07 04:00:00 1138.0\n",
      "2005-09-07 05:00:00 1137.75\n",
      "2005-09-07 06:00:00 1137.25\n",
      "2005-09-07 07:00:00 1137.0\n",
      "2005-09-07 08:00:00 1137.75\n",
      "2005-09-07 09:00:00 1136.75\n",
      "2005-09-07 10:00:00 1136.5\n",
      "2005-09-07 11:00:00 1138.75\n",
      "2005-09-07 12:00:00 1137.75\n",
      "2005-09-07 13:00:00 1139.0\n",
      "2005-09-07 14:00:00 1139.5\n",
      "2005-09-07 15:00:00 1139.5\n",
      "2005-09-07 16:00:00 1140.75\n",
      "2005-09-07 17:00:00 1139.25\n",
      "2005-09-07 18:00:00 1132.5\n",
      "2005-09-07 19:00:00 1131.75\n",
      "2005-09-07 20:00:00 1131.5\n",
      "2005-09-07 21:00:00 1131.5\n"
     ]
    }
   ],
   "source": [
    "for ix, row in es_df.iloc[0:30].iterrows():\n",
    "    print(row.DateTime, row.Open)"
   ]
  },
  {
   "cell_type": "code",
   "execution_count": null,
   "id": "perfect-quality",
   "metadata": {},
   "outputs": [],
   "source": []
  },
  {
   "cell_type": "code",
   "execution_count": 9,
   "id": "desperate-routine",
   "metadata": {
    "scrolled": true
   },
   "outputs": [],
   "source": [
    "symbol = \"ES\"\n",
    "exchange = Exchange.CME\n",
    "interval = Interval.HOUR\n",
    "\n",
    "barlist = []\n",
    "\n",
    "for ix, row in es_df.iloc[0:30].iterrows():\n",
    "    # print(ix, row)\n",
    "    bar = BarData(\n",
    "        symbol=symbol,\n",
    "        exchange=exchange,\n",
    "        interval=interval,\n",
    "        datetime=row.DateTime,\n",
    "        open_price=row.Open,\n",
    "        high_price=row.High,\n",
    "        low_price=row.Low,\n",
    "        close_price=row.Close,\n",
    "        volume=row.Volume,\n",
    "        gateway_name=\"FR\"\n",
    "    )\n",
    "    # print(bar)\n",
    "    barlist.append(bar)"
   ]
  },
  {
   "cell_type": "code",
   "execution_count": 10,
   "id": "yellow-medication",
   "metadata": {},
   "outputs": [
    {
     "name": "stdout",
     "output_type": "stream",
     "text": [
      "Jinchao MongodbDatabase save_bar_data\n"
     ]
    }
   ],
   "source": [
    "database_manager.save_bar_data(barlist)"
   ]
  },
  {
   "cell_type": "code",
   "execution_count": 15,
   "id": "allied-irrigation",
   "metadata": {},
   "outputs": [
    {
     "name": "stdout",
     "output_type": "stream",
     "text": [
      "Jinchao MongodbDatabase load_bar_data\n",
      "30\n"
     ]
    }
   ],
   "source": [
    "start = datetime.datetime.strptime('20010901', \"%Y%m%d\")\n",
    "end = datetime.datetime.strptime('20210220', \"%Y%m%d\")\n",
    "\n",
    "read_barlist = database_manager.load_bar_data(\n",
    "    symbol=\"ES\",\n",
    "    exchange=Exchange.CME,\n",
    "    start=start,\n",
    "    end=end,\n",
    "    interval=Interval.HOUR\n",
    ")\n",
    "\n",
    "print(len(read_barlist))"
   ]
  },
  {
   "cell_type": "code",
   "execution_count": null,
   "id": "brown-interval",
   "metadata": {},
   "outputs": [],
   "source": []
  }
 ],
 "metadata": {
  "kernelspec": {
   "display_name": "Python 3",
   "language": "python",
   "name": "python3"
  },
  "language_info": {
   "codemirror_mode": {
    "name": "ipython",
    "version": 3
   },
   "file_extension": ".py",
   "mimetype": "text/x-python",
   "name": "python",
   "nbconvert_exporter": "python",
   "pygments_lexer": "ipython3",
   "version": "3.7.9"
  }
 },
 "nbformat": 4,
 "nbformat_minor": 5
}
